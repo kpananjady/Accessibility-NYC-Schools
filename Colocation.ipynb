{
 "cells": [
  {
   "cell_type": "markdown",
   "metadata": {},
   "source": [
    "# What this file does "
   ]
  },
  {
   "cell_type": "markdown",
   "metadata": {},
   "source": [
    "Kio raised a great point that schools in the same building (i.e. colocated schools) might have different ratings. This would throw the spatial analysis I did previously if true, so I wrote this file to check how many colocated schools — if any — have different ratings. I found that none of the colocated schools in this database had different ratings. \n",
    "\n",
    "While this means that my mapping analysis still makes sense, it does raise some questions about the quality of the data; in the data dictionary, ratings vary based on how many floors are accessible with the building. If colocated schools are on different floors in buildings that are not fully accessible, they should have different ratings. So why don't they?\n",
    "\n",
    "Again, the data source is the Department of Education: https://nycdoe.sharepoint.com/sites/BAP/Shared%20Documents/Forms/AllItems.aspx?id=%2Fsites%2FBAP%2FShared%20Documents%2FBuilding%20Accessibility%20Profile%20List&p=true&originalPath=aHR0cHM6Ly9ueWNkb2Uuc2hhcmVwb2ludC5jb20vOmY6L3MvQkFQL0VwdzItQUtwNUs1THZXQzZYTFQ3Tk80Qlo2NW1CYmljTHlOUXYzdUltN09uTVE_cnRpbWU9MlBpc0hKX0gxMGc\n",
    "\n",
    "And here is the link to the data dictionary: https://www.schools.nyc.gov/school-life/school-environment/building-accessibility"
   ]
  },
  {
   "cell_type": "markdown",
   "metadata": {},
   "source": [
    "# How many schools colocate and do they have different ratings if they do?"
   ]
  },
  {
   "cell_type": "markdown",
   "metadata": {},
   "source": [
    "According to this analysis, schools that colocate do not have different ratings. Not all schools that colocate are fully accessible, so we should expect to see some variation in ratings if schools are on different floors in the same building. I don't know why we don't see any.)\n",
    "\n",
    "In this database, I've identified 887 schools that colocate from a dataset of about 1200 schools. "
   ]
  },
  {
   "cell_type": "code",
   "execution_count": null,
   "metadata": {},
   "outputs": [],
   "source": [
    "# import library"
   ]
  },
  {
   "cell_type": "code",
   "execution_count": 1,
   "metadata": {},
   "outputs": [],
   "source": [
    "import pandas as pd"
   ]
  },
  {
   "cell_type": "code",
   "execution_count": null,
   "metadata": {},
   "outputs": [],
   "source": [
    "#read in the geolocated data created from "
   ]
  },
  {
   "cell_type": "code",
   "execution_count": 2,
   "metadata": {},
   "outputs": [],
   "source": [
    "df = pd.read_csv('School-NYC-Accessibility-geolocated.csv')"
   ]
  },
  {
   "cell_type": "code",
   "execution_count": null,
   "metadata": {},
   "outputs": [],
   "source": [
    "# save a list of all the building codes"
   ]
  },
  {
   "cell_type": "code",
   "execution_count": 18,
   "metadata": {},
   "outputs": [],
   "source": [
    "building_codes = df['Building Code'].unique()"
   ]
  },
  {
   "cell_type": "code",
   "execution_count": null,
   "metadata": {},
   "outputs": [],
   "source": [
    "#doing a test to extract ratings of all schools within a single building, i.e. with the same building code"
   ]
  },
  {
   "cell_type": "code",
   "execution_count": 22,
   "metadata": {},
   "outputs": [
    {
     "data": {
      "text/plain": [
       "array([10.])"
      ]
     },
     "execution_count": 22,
     "metadata": {},
     "output_type": "execute_result"
    }
   ],
   "source": [
    "df[df['Building Code']=='K002']['Rating'].unique()"
   ]
  },
  {
   "cell_type": "code",
   "execution_count": null,
   "metadata": {},
   "outputs": [],
   "source": [
    "#function to count number of schools in each building and whether not those schools have different accessibility ratings"
   ]
  },
  {
   "cell_type": "code",
   "execution_count": 60,
   "metadata": {},
   "outputs": [],
   "source": [
    "list_statuses = []\n",
    "for code in building_codes:\n",
    "    # create an empty row\n",
    "    dict_code_status = {}\n",
    "    \n",
    "    #save the code\n",
    "    dict_code_status['code'] = code\n",
    "    \n",
    "    #save the number of schools that share the same building code\n",
    "    dict_code_status['no_schools_in_building'] = (len(df[df['Building Code']==code]))\n",
    "    \n",
    "    #save all the different ratings a school may get\n",
    "    ratings_list = df[df['Building Code']==code]['Rating'].unique()\n",
    "    dict_code_status['ratings'] = df[df['Building Code']==code]['Rating'].unique()\n",
    "    \n",
    "    #save whether or not different schools in the same building are receiving different ratings or not\n",
    "    if len(ratings_list)==1:\n",
    "        dict_code_status['status'] = 'Same'\n",
    "    else:\n",
    "        dict_code_status['status'] = 'Not Same'\n",
    "    list_statuses += [dict_code_status]\n",
    "        \n",
    "        "
   ]
  },
  {
   "cell_type": "code",
   "execution_count": null,
   "metadata": {},
   "outputs": [],
   "source": [
    "#saving results to a nice dataframe"
   ]
  },
  {
   "cell_type": "code",
   "execution_count": 62,
   "metadata": {},
   "outputs": [],
   "source": [
    "df_status = pd.DataFrame(list_statuses)"
   ]
  },
  {
   "cell_type": "code",
   "execution_count": null,
   "metadata": {},
   "outputs": [],
   "source": [
    "# all looks as it should"
   ]
  },
  {
   "cell_type": "code",
   "execution_count": 63,
   "metadata": {},
   "outputs": [
    {
     "data": {
      "text/html": [
       "<div>\n",
       "<style scoped>\n",
       "    .dataframe tbody tr th:only-of-type {\n",
       "        vertical-align: middle;\n",
       "    }\n",
       "\n",
       "    .dataframe tbody tr th {\n",
       "        vertical-align: top;\n",
       "    }\n",
       "\n",
       "    .dataframe thead th {\n",
       "        text-align: right;\n",
       "    }\n",
       "</style>\n",
       "<table border=\"1\" class=\"dataframe\">\n",
       "  <thead>\n",
       "    <tr style=\"text-align: right;\">\n",
       "      <th></th>\n",
       "      <th>code</th>\n",
       "      <th>no_schools_in_building</th>\n",
       "      <th>ratings</th>\n",
       "      <th>status</th>\n",
       "    </tr>\n",
       "  </thead>\n",
       "  <tbody>\n",
       "    <tr>\n",
       "      <td>0</td>\n",
       "      <td>X040</td>\n",
       "      <td>3</td>\n",
       "      <td>[1.0]</td>\n",
       "      <td>Same</td>\n",
       "    </tr>\n",
       "    <tr>\n",
       "      <td>1</td>\n",
       "      <td>X065</td>\n",
       "      <td>2</td>\n",
       "      <td>[6.0]</td>\n",
       "      <td>Same</td>\n",
       "    </tr>\n",
       "    <tr>\n",
       "      <td>2</td>\n",
       "      <td>X151</td>\n",
       "      <td>4</td>\n",
       "      <td>[6.0]</td>\n",
       "      <td>Same</td>\n",
       "    </tr>\n",
       "    <tr>\n",
       "      <td>3</td>\n",
       "      <td>X155</td>\n",
       "      <td>3</td>\n",
       "      <td>[4.0]</td>\n",
       "      <td>Same</td>\n",
       "    </tr>\n",
       "    <tr>\n",
       "      <td>4</td>\n",
       "      <td>X156</td>\n",
       "      <td>3</td>\n",
       "      <td>[5.0]</td>\n",
       "      <td>Same</td>\n",
       "    </tr>\n",
       "    <tr>\n",
       "      <td>...</td>\n",
       "      <td>...</td>\n",
       "      <td>...</td>\n",
       "      <td>...</td>\n",
       "      <td>...</td>\n",
       "    </tr>\n",
       "    <tr>\n",
       "      <td>640</td>\n",
       "      <td>R829</td>\n",
       "      <td>1</td>\n",
       "      <td>[9.0]</td>\n",
       "      <td>Same</td>\n",
       "    </tr>\n",
       "    <tr>\n",
       "      <td>641</td>\n",
       "      <td>R840</td>\n",
       "      <td>1</td>\n",
       "      <td>[9.0]</td>\n",
       "      <td>Same</td>\n",
       "    </tr>\n",
       "    <tr>\n",
       "      <td>642</td>\n",
       "      <td>R843</td>\n",
       "      <td>1</td>\n",
       "      <td>[8.0]</td>\n",
       "      <td>Same</td>\n",
       "    </tr>\n",
       "    <tr>\n",
       "      <td>643</td>\n",
       "      <td>R861</td>\n",
       "      <td>2</td>\n",
       "      <td>[10.0]</td>\n",
       "      <td>Same</td>\n",
       "    </tr>\n",
       "    <tr>\n",
       "      <td>644</td>\n",
       "      <td>R880</td>\n",
       "      <td>3</td>\n",
       "      <td>[4.0]</td>\n",
       "      <td>Same</td>\n",
       "    </tr>\n",
       "  </tbody>\n",
       "</table>\n",
       "<p>645 rows × 4 columns</p>\n",
       "</div>"
      ],
      "text/plain": [
       "     code  no_schools_in_building ratings status\n",
       "0    X040                       3   [1.0]   Same\n",
       "1    X065                       2   [6.0]   Same\n",
       "2    X151                       4   [6.0]   Same\n",
       "3    X155                       3   [4.0]   Same\n",
       "4    X156                       3   [5.0]   Same\n",
       "..    ...                     ...     ...    ...\n",
       "640  R829                       1   [9.0]   Same\n",
       "641  R840                       1   [9.0]   Same\n",
       "642  R843                       1   [8.0]   Same\n",
       "643  R861                       2  [10.0]   Same\n",
       "644  R880                       3   [4.0]   Same\n",
       "\n",
       "[645 rows x 4 columns]"
      ]
     },
     "execution_count": 63,
     "metadata": {},
     "output_type": "execute_result"
    }
   ],
   "source": [
    "df_status"
   ]
  },
  {
   "cell_type": "code",
   "execution_count": null,
   "metadata": {},
   "outputs": [],
   "source": [
    "#all returned same"
   ]
  },
  {
   "cell_type": "code",
   "execution_count": 64,
   "metadata": {},
   "outputs": [
    {
     "data": {
      "text/plain": [
       "Same    645\n",
       "Name: status, dtype: int64"
      ]
     },
     "execution_count": 64,
     "metadata": {},
     "output_type": "execute_result"
    }
   ],
   "source": [
    "df_status['status'].value_counts()"
   ]
  },
  {
   "cell_type": "code",
   "execution_count": null,
   "metadata": {},
   "outputs": [],
   "source": [
    "# saving the elemnts of the list in a different column"
   ]
  },
  {
   "cell_type": "code",
   "execution_count": 65,
   "metadata": {},
   "outputs": [],
   "source": [
    "def list_liberate(my_list):\n",
    "    for element in my_list:\n",
    "        return element"
   ]
  },
  {
   "cell_type": "code",
   "execution_count": null,
   "metadata": {},
   "outputs": [],
   "source": [
    "#saving it as 'rating'"
   ]
  },
  {
   "cell_type": "code",
   "execution_count": 66,
   "metadata": {},
   "outputs": [],
   "source": [
    "df_status['rating'] = df_status['ratings'].apply(lambda x: list_liberate(x))"
   ]
  },
  {
   "cell_type": "code",
   "execution_count": null,
   "metadata": {},
   "outputs": [],
   "source": [
    "#distribution of ratings of all schools"
   ]
  },
  {
   "cell_type": "code",
   "execution_count": 68,
   "metadata": {},
   "outputs": [
    {
     "data": {
      "text/plain": [
       "<matplotlib.axes._subplots.AxesSubplot at 0x119a9da50>"
      ]
     },
     "execution_count": 68,
     "metadata": {},
     "output_type": "execute_result"
    },
    {
     "data": {
      "image/png": "[encoded data removed]",
      "text/plain": [
       "<Figure size 432x288 with 1 Axes>"
      ]
     },
     "metadata": {
      "needs_background": "light"
     },
     "output_type": "display_data"
    }
   ],
   "source": [
    "df_status['rating'].plot(kind='hist')"
   ]
  },
  {
   "cell_type": "code",
   "execution_count": null,
   "metadata": {},
   "outputs": [],
   "source": [
    "#distributions of ratings for schools that share buildings; basically reflective of the trend above"
   ]
  },
  {
   "cell_type": "code",
   "execution_count": 67,
   "metadata": {},
   "outputs": [
    {
     "data": {
      "text/plain": [
       "<matplotlib.axes._subplots.AxesSubplot at 0x10de18e50>"
      ]
     },
     "execution_count": 67,
     "metadata": {},
     "output_type": "execute_result"
    },
    {
     "data": {
      "image/png": "[encoded data removed]",
      "text/plain": [
       "<Figure size 432x288 with 1 Axes>"
      ]
     },
     "metadata": {
      "needs_background": "light"
     },
     "output_type": "display_data"
    }
   ],
   "source": [
    "df_status[df_status['no_schools_in_building']>1]['rating'].plot(kind='hist')"
   ]
  },
  {
   "cell_type": "code",
   "execution_count": 69,
   "metadata": {},
   "outputs": [
    {
     "data": {
      "text/html": [
       "<div>\n",
       "<style scoped>\n",
       "    .dataframe tbody tr th:only-of-type {\n",
       "        vertical-align: middle;\n",
       "    }\n",
       "\n",
       "    .dataframe tbody tr th {\n",
       "        vertical-align: top;\n",
       "    }\n",
       "\n",
       "    .dataframe thead th {\n",
       "        text-align: right;\n",
       "    }\n",
       "</style>\n",
       "<table border=\"1\" class=\"dataframe\">\n",
       "  <thead>\n",
       "    <tr style=\"text-align: right;\">\n",
       "      <th></th>\n",
       "      <th>code</th>\n",
       "      <th>no_schools_in_building</th>\n",
       "      <th>ratings</th>\n",
       "      <th>status</th>\n",
       "      <th>rating</th>\n",
       "    </tr>\n",
       "  </thead>\n",
       "  <tbody>\n",
       "    <tr>\n",
       "      <td>0</td>\n",
       "      <td>X040</td>\n",
       "      <td>3</td>\n",
       "      <td>[1.0]</td>\n",
       "      <td>Same</td>\n",
       "      <td>1.0</td>\n",
       "    </tr>\n",
       "    <tr>\n",
       "      <td>1</td>\n",
       "      <td>X065</td>\n",
       "      <td>2</td>\n",
       "      <td>[6.0]</td>\n",
       "      <td>Same</td>\n",
       "      <td>6.0</td>\n",
       "    </tr>\n",
       "    <tr>\n",
       "      <td>2</td>\n",
       "      <td>X151</td>\n",
       "      <td>4</td>\n",
       "      <td>[6.0]</td>\n",
       "      <td>Same</td>\n",
       "      <td>6.0</td>\n",
       "    </tr>\n",
       "    <tr>\n",
       "      <td>3</td>\n",
       "      <td>X155</td>\n",
       "      <td>3</td>\n",
       "      <td>[4.0]</td>\n",
       "      <td>Same</td>\n",
       "      <td>4.0</td>\n",
       "    </tr>\n",
       "    <tr>\n",
       "      <td>4</td>\n",
       "      <td>X156</td>\n",
       "      <td>3</td>\n",
       "      <td>[5.0]</td>\n",
       "      <td>Same</td>\n",
       "      <td>5.0</td>\n",
       "    </tr>\n",
       "    <tr>\n",
       "      <td>...</td>\n",
       "      <td>...</td>\n",
       "      <td>...</td>\n",
       "      <td>...</td>\n",
       "      <td>...</td>\n",
       "      <td>...</td>\n",
       "    </tr>\n",
       "    <tr>\n",
       "      <td>634</td>\n",
       "      <td>R450</td>\n",
       "      <td>2</td>\n",
       "      <td>[7.0]</td>\n",
       "      <td>Same</td>\n",
       "      <td>7.0</td>\n",
       "    </tr>\n",
       "    <tr>\n",
       "      <td>635</td>\n",
       "      <td>R455</td>\n",
       "      <td>3</td>\n",
       "      <td>[7.0]</td>\n",
       "      <td>Same</td>\n",
       "      <td>7.0</td>\n",
       "    </tr>\n",
       "    <tr>\n",
       "      <td>638</td>\n",
       "      <td>R600</td>\n",
       "      <td>2</td>\n",
       "      <td>[8.0]</td>\n",
       "      <td>Same</td>\n",
       "      <td>8.0</td>\n",
       "    </tr>\n",
       "    <tr>\n",
       "      <td>643</td>\n",
       "      <td>R861</td>\n",
       "      <td>2</td>\n",
       "      <td>[10.0]</td>\n",
       "      <td>Same</td>\n",
       "      <td>10.0</td>\n",
       "    </tr>\n",
       "    <tr>\n",
       "      <td>644</td>\n",
       "      <td>R880</td>\n",
       "      <td>3</td>\n",
       "      <td>[4.0]</td>\n",
       "      <td>Same</td>\n",
       "      <td>4.0</td>\n",
       "    </tr>\n",
       "  </tbody>\n",
       "</table>\n",
       "<p>331 rows × 5 columns</p>\n",
       "</div>"
      ],
      "text/plain": [
       "     code  no_schools_in_building ratings status  rating\n",
       "0    X040                       3   [1.0]   Same     1.0\n",
       "1    X065                       2   [6.0]   Same     6.0\n",
       "2    X151                       4   [6.0]   Same     6.0\n",
       "3    X155                       3   [4.0]   Same     4.0\n",
       "4    X156                       3   [5.0]   Same     5.0\n",
       "..    ...                     ...     ...    ...     ...\n",
       "634  R450                       2   [7.0]   Same     7.0\n",
       "635  R455                       3   [7.0]   Same     7.0\n",
       "638  R600                       2   [8.0]   Same     8.0\n",
       "643  R861                       2  [10.0]   Same    10.0\n",
       "644  R880                       3   [4.0]   Same     4.0\n",
       "\n",
       "[331 rows x 5 columns]"
      ]
     },
     "execution_count": 69,
     "metadata": {},
     "output_type": "execute_result"
    }
   ],
   "source": [
    "df_status[df_status['no_schools_in_building']>1]"
   ]
  },
  {
   "cell_type": "code",
   "execution_count": null,
   "metadata": {},
   "outputs": [],
   "source": [
    "#tallying up the number of schools that sre colocating - 887 in totoal "
   ]
  },
  {
   "cell_type": "code",
   "execution_count": 70,
   "metadata": {},
   "outputs": [
    {
     "data": {
      "text/plain": [
       "887"
      ]
     },
     "execution_count": 70,
     "metadata": {},
     "output_type": "execute_result"
    }
   ],
   "source": [
    "df_status[df_status['no_schools_in_building']>1]['no_schools_in_building'].sum()"
   ]
  },
  {
   "cell_type": "code",
   "execution_count": null,
   "metadata": {},
   "outputs": [],
   "source": [
    "#saving results to a database"
   ]
  },
  {
   "cell_type": "code",
   "execution_count": 71,
   "metadata": {},
   "outputs": [],
   "source": [
    "df_status.to_csv('colocation.csv')"
   ]
  }
 ],
 "metadata": {
  "kernelspec": {
   "display_name": "Python 3",
   "language": "python",
   "name": "python3"
  },
  "language_info": {
   "codemirror_mode": {
    "name": "ipython",
    "version": 3
   },
   "file_extension": ".py",
   "mimetype": "text/x-python",
   "name": "python",
   "nbconvert_exporter": "python",
   "pygments_lexer": "ipython3",
   "version": "3.7.5"
  }
 },
 "nbformat": 4,
 "nbformat_minor": 2
}
